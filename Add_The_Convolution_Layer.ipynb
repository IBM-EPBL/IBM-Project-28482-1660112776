{
  "cells": [
    {
      "cell_type": "markdown",
      "metadata": {
        "id": "2_G7Q1vMomfr"
      },
      "source": [
        "# IBM Project Name: Real-Time Communication System Powered by AI for Specially Abled\n",
        "# TEAM ID:   PNT2022TMID15666\n",
        "# TEAM LEAD: DINESH K"
      ]
    },
    {
      "cell_type": "markdown",
      "metadata": {
        "id": "vGbW1NQVotWp"
      },
      "source": []
    },
    {
      "cell_type": "markdown",
      "metadata": {
        "id": "uFK2dW_1oyoH"
      },
      "source": [
        "Model Building"
      ]
    },
    {
      "cell_type": "markdown",
      "metadata": {
        "id": "nP5jmnM5o1Z1"
      },
      "source": [
        "Import The Required Model Building Libraries\n"
      ]
    },
    {
      "cell_type": "code",
      "execution_count": 1,
      "metadata": {
        "id": "I_mHw62oEUqr"
      },
      "outputs": [],
      "source": [
        "#import imagedatagenerator\n",
        "from keras.preprocessing.image import ImageDataGenerator"
      ]
    },
    {
      "cell_type": "code",
      "execution_count": 2,
      "metadata": {
        "id": "61VrGuKOoewu"
      },
      "outputs": [],
      "source": [
        "#training datagen\n",
        "train_datagen=ImageDataGenerator(rescale=1./255,shear_range=0.2,zoom_range=0.2,horizontal_flip=True)"
      ]
    },
    {
      "cell_type": "code",
      "execution_count": 3,
      "metadata": {
        "id": "xO75rsS3qDC5"
      },
      "outputs": [],
      "source": [
        "#testing datagen\n",
        "test_datagen=ImageDataGenerator(rescale=1./255)"
      ]
    },
    {
      "cell_type": "markdown",
      "metadata": {
        "id": "bYe1O2AfqIrf"
      },
      "source": [
        "IMPORTING tensorflow"
      ]
    },
    {
      "cell_type": "code",
      "execution_count": 4,
      "metadata": {
        "id": "ofDYoY7sqGDU"
      },
      "outputs": [],
      "source": [
        "import tensorflow as tf\n",
        "import os"
      ]
    },
    {
      "cell_type": "markdown",
      "metadata": {
        "id": "TAwZWfsjqOev"
      },
      "source": [
        "**Initialize The Model**"
      ]
    },
    {
      "cell_type": "code",
      "execution_count": 5,
      "metadata": {
        "id": "Ck6yBKf1qPZz"
      },
      "outputs": [],
      "source": [
        "#create model\n",
        "from keras.models import Sequential\n",
        "from keras.layers import Dense\n",
        "from keras.layers import Convolution2D\n",
        "from keras.layers import MaxPooling2D\n",
        "from keras.layers import Dropout\n",
        "from keras.layers import Flatten \n",
        "from tensorflow.keras.preprocessing.image import ImageDataGenerator"
      ]
    },
    {
      "cell_type": "code",
      "execution_count": 6,
      "metadata": {
        "id": "9jyZWCmLqT2F"
      },
      "outputs": [],
      "source": [
        "import numpy as np\n",
        "import matplotlib.pyplot as plt #to view graph in colab itself\n",
        "import IPython.display as display\n",
        "from PIL import Image\n",
        "import pathlib"
      ]
    },
    {
      "cell_type": "markdown",
      "metadata": {
        "id": "Tg-I2-QxqwaD"
      },
      "source": [
        "Unzipping the dataset"
      ]
    },
    {
      "cell_type": "code",
      "execution_count": 7,
      "metadata": {
        "colab": {
          "base_uri": "https://localhost:8080/"
        },
        "id": "PiYShEJBqy-0",
        "outputId": "10583a4e-d1c1-40e6-edb2-2251215c3edf"
      },
      "outputs": [
        {
          "name": "stderr",
          "output_type": "stream",
          "text": [
            "'unzip' is not recognized as an internal or external command,\n",
            "operable program or batch file.\n"
          ]
        }
      ],
      "source": [
        "!unzip '/content/conversation engine for deaf and dumb (1).zip'"
      ]
    },
    {
      "cell_type": "markdown",
      "metadata": {
        "id": "2r95_bdVuEy1"
      },
      "source": [
        "Applying ImageDataGenerator to training set"
      ]
    },
    {
      "cell_type": "code",
      "execution_count": 8,
      "metadata": {
        "colab": {
          "base_uri": "https://localhost:8080/"
        },
        "id": "E18JQzzvrFpQ",
        "outputId": "401b4f59-5322-42d6-c79a-963518ecc0e1"
      },
      "outputs": [
        {
          "name": "stdout",
          "output_type": "stream",
          "text": [
            "Found 15130 images belonging to 1 classes.\n"
          ]
        }
      ],
      "source": [
        "x_train=train_datagen.flow_from_directory('../DATA COLLECTION/training_set',target_size=(64,64),batch_size=200,\n",
        "                                          class_mode='categorical',color_mode=\"grayscale\")"
      ]
    },
    {
      "cell_type": "markdown",
      "metadata": {
        "id": "pNsLjRsluO6H"
      },
      "source": [
        "Applying ImageDataGenerator to test set"
      ]
    },
    {
      "cell_type": "code",
      "execution_count": 10,
      "metadata": {
        "colab": {
          "base_uri": "https://localhost:8080/"
        },
        "id": "w_hFC8XztpO0",
        "outputId": "b1fd86d1-2ac0-4776-8e99-4e2f4af1b8b4"
      },
      "outputs": [
        {
          "name": "stdout",
          "output_type": "stream",
          "text": [
            "Found 2250 images belonging to 1 classes.\n"
          ]
        }
      ],
      "source": [
        "x_test=test_datagen.flow_from_directory('../DATA COLLECTION/test_set',target_size=(64,64),batch_size=200,\n",
        "                                          class_mode='categorical',color_mode=\"grayscale\")"
      ]
    },
    {
      "cell_type": "code",
      "execution_count": 11,
      "metadata": {
        "id": "a8ZGR9usdrNF"
      },
      "outputs": [],
      "source": [
        "a=len(x_train)\n",
        "b=len(x_test)"
      ]
    },
    {
      "cell_type": "markdown",
      "metadata": {
        "id": "_lw7qrnFdtso"
      },
      "source": [
        "Length of training set"
      ]
    },
    {
      "cell_type": "code",
      "execution_count": 12,
      "metadata": {
        "colab": {
          "base_uri": "https://localhost:8080/"
        },
        "id": "0FTaheN5dv8k",
        "outputId": "1845bb5e-05e0-43dc-ffaf-b1a92bbc41db"
      },
      "outputs": [
        {
          "name": "stdout",
          "output_type": "stream",
          "text": [
            "76\n"
          ]
        }
      ],
      "source": [
        "print(a)"
      ]
    },
    {
      "cell_type": "markdown",
      "metadata": {
        "id": "U1JzutxCdw2O"
      },
      "source": [
        "Length of test set"
      ]
    },
    {
      "cell_type": "code",
      "execution_count": 13,
      "metadata": {
        "colab": {
          "base_uri": "https://localhost:8080/"
        },
        "id": "jNI2FL3PdzDq",
        "outputId": "0d0b9e4c-4174-487f-f70b-6843e9b18b21"
      },
      "outputs": [
        {
          "name": "stdout",
          "output_type": "stream",
          "text": [
            "12\n"
          ]
        }
      ],
      "source": [
        "print(b)"
      ]
    },
    {
      "cell_type": "markdown",
      "metadata": {
        "id": "9SRg-omujmM6"
      },
      "source": [
        "**Add Layers**"
      ]
    },
    {
      "cell_type": "code",
      "execution_count": 14,
      "metadata": {
        "id": "iLJ7ctIrjsjB"
      },
      "outputs": [],
      "source": [
        "#create model\n",
        "model=Sequential()"
      ]
    },
    {
      "cell_type": "markdown",
      "metadata": {
        "id": "fZ7qF2celuwi"
      },
      "source": [
        "Add The Convolution Layer"
      ]
    },
    {
      "cell_type": "code",
      "execution_count": 15,
      "metadata": {
        "id": "HcUkfqaOl8_R"
      },
      "outputs": [],
      "source": [
        "model.add(Convolution2D(32,(3,3),input_shape=(64,64,1),activation='relu'))"
      ]
    },
    {
      "cell_type": "code",
      "execution_count": null,
      "metadata": {},
      "outputs": [],
      "source": []
    }
  ],
  "metadata": {
    "colab": {
      "collapsed_sections": [],
      "provenance": []
    },
    "kernelspec": {
      "display_name": "Python 3.9.6 64-bit",
      "language": "python",
      "name": "python3"
    },
    "language_info": {
      "codemirror_mode": {
        "name": "ipython",
        "version": 3
      },
      "file_extension": ".py",
      "mimetype": "text/x-python",
      "name": "python",
      "nbconvert_exporter": "python",
      "pygments_lexer": "ipython3",
      "version": "3.9.6"
    },
    "vscode": {
      "interpreter": {
        "hash": "6fe4714bd5ce26c50e16ce1c271df9023051780d2ddcdace95a80dfeffea871e"
      }
    }
  },
  "nbformat": 4,
  "nbformat_minor": 0
}
