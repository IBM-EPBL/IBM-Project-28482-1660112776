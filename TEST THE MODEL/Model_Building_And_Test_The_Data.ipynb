{
  "cells": [
    {
      "cell_type": "markdown",
      "metadata": {},
      "source": [
        "PNT2022TMID26077 Testing The Model."
      ]
    },
    {
      "cell_type": "markdown",
      "metadata": {
        "id": "rifIriR8gKIO"
      },
      "source": [
        "##IMPORT LIBRARIES"
      ]
    },
    {
      "cell_type": "code",
      "execution_count": 1,
      "metadata": {
        "id": "O1r6hhKBgJIU"
      },
      "outputs": [
        {
          "name": "stderr",
          "output_type": "stream",
          "text": [
            "c:\\Users\\KAAD\\AppData\\Local\\Programs\\Python\\Python39\\lib\\site-packages\\requests\\__init__.py:89: RequestsDependencyWarning: urllib3 (1.26.12) or chardet (3.0.4) doesn't match a supported version!\n",
            "  warnings.warn(\"urllib3 ({}) or chardet ({}) doesn't match a supported \"\n"
          ]
        }
      ],
      "source": [
        "from tensorflow.keras.models import Sequential\n",
        "from tensorflow.keras.layers import Dense, Conv2D, Flatten, Dropout, MaxPooling2D\n",
        "from tensorflow.keras.preprocessing.image import ImageDataGenerator\n",
        "import numpy as np\n",
        "import matplotlib.pyplot as plt\n",
        "import cv2"
      ]
    },
    {
      "cell_type": "markdown",
      "metadata": {
        "id": "kBlD7TDkKn3P"
      },
      "source": [
        "##unzip the file\n",
        "\n"
      ]
    },
    {
      "cell_type": "code",
      "execution_count": 2,
      "metadata": {
        "colab": {
          "base_uri": "https://localhost:8080/"
        },
        "id": "ecgFltU1IIE4",
        "outputId": "43551853-e064-4597-9320-dfde90b59d8c"
      },
      "outputs": [
        {
          "name": "stderr",
          "output_type": "stream",
          "text": [
            "'unzip' is not recognized as an internal or external command,\n",
            "operable program or batch file.\n"
          ]
        }
      ],
      "source": [
        "!unzip '/content/drive/MyDrive/IBMPROJECT/conversation engine for deaf and dumb.zip'"
      ]
    },
    {
      "cell_type": "markdown",
      "metadata": {
        "id": "thhFCF-2KhrP"
      },
      "source": [
        "##DATA AUGMENTATION"
      ]
    },
    {
      "cell_type": "code",
      "execution_count": 3,
      "metadata": {
        "id": "1VGhefJYE2a7"
      },
      "outputs": [],
      "source": [
        "from keras.preprocessing.image import ImageDataGenerator\n",
        "train_datagen=ImageDataGenerator(rescale = 1./255, shear_range=0.2, zoom_range=0.2,horizontal_flip=True,vertical_flip=False)\n",
        "test_datagen = ImageDataGenerator(rescale=1./255)"
      ]
    },
    {
      "cell_type": "code",
      "execution_count": 4,
      "metadata": {
        "colab": {
          "base_uri": "https://localhost:8080/"
        },
        "id": "EYejW9eYHfpT",
        "outputId": "e027dfe2-939b-4b73-e518-7dd3ddc22b5d"
      },
      "outputs": [
        {
          "name": "stdout",
          "output_type": "stream",
          "text": [
            "Found 15130 images belonging to 1 classes.\n"
          ]
        }
      ],
      "source": [
        "x_train = train_datagen.flow_from_directory(\"../DATA COLLECTION/training_set\", target_size=(64,64),batch_size=100,\n",
        "                                            class_mode='categorical', color_mode =\"grayscale\")"
      ]
    },
    {
      "cell_type": "code",
      "execution_count": 6,
      "metadata": {
        "colab": {
          "base_uri": "https://localhost:8080/"
        },
        "id": "ET_fSsUKHi2P",
        "outputId": "98bccfde-365f-4c31-823d-2087ebd3a27c"
      },
      "outputs": [
        {
          "name": "stdout",
          "output_type": "stream",
          "text": [
            "Found 2250 images belonging to 1 classes.\n"
          ]
        }
      ],
      "source": [
        "x_test = test_datagen.flow_from_directory(\"../DATA COLLECTION/test_set\", target_size=(64,64),batch_size=100,\n",
        "                                         class_mode='categorical', color_mode =\"grayscale\")"
      ]
    },
    {
      "cell_type": "code",
      "execution_count": 7,
      "metadata": {
        "colab": {
          "base_uri": "https://localhost:8080/"
        },
        "id": "VmWN1IALKcPk",
        "outputId": "94e013e6-6ede-434e-e605-10fcb8d27f4d"
      },
      "outputs": [
        {
          "data": {
            "text/plain": [
              "152"
            ]
          },
          "execution_count": 7,
          "metadata": {},
          "output_type": "execute_result"
        }
      ],
      "source": [
        "len(x_train)"
      ]
    },
    {
      "cell_type": "code",
      "execution_count": 8,
      "metadata": {
        "colab": {
          "base_uri": "https://localhost:8080/"
        },
        "id": "7IFFqi_yOzsn",
        "outputId": "fbb3d793-aa57-46f4-c757-ebce1e7a6ab5"
      },
      "outputs": [
        {
          "data": {
            "text/plain": [
              "23"
            ]
          },
          "execution_count": 8,
          "metadata": {},
          "output_type": "execute_result"
        }
      ],
      "source": [
        "len(x_test)"
      ]
    },
    {
      "cell_type": "code",
      "execution_count": 9,
      "metadata": {
        "colab": {
          "base_uri": "https://localhost:8080/"
        },
        "id": "jnMxokV6Qlf7",
        "outputId": "bef23bde-5e6a-4b08-e455-7c1cc7a5e201"
      },
      "outputs": [
        {
          "data": {
            "text/plain": [
              "{'training_set': 0}"
            ]
          },
          "execution_count": 9,
          "metadata": {},
          "output_type": "execute_result"
        }
      ],
      "source": [
        "x_train.class_indices"
      ]
    },
    {
      "cell_type": "markdown",
      "metadata": {
        "id": "XfbAOQT7Kc77"
      },
      "source": [
        "##MODEL BUILDING"
      ]
    },
    {
      "cell_type": "code",
      "execution_count": 10,
      "metadata": {
        "id": "hkBXqkwzHmvU"
      },
      "outputs": [],
      "source": [
        "from keras.models import Sequential\n",
        "from keras.layers import Dense\n",
        "from keras.layers import Convolution2D\n",
        "from tensorflow.keras.layers import Conv2D, MaxPooling2D\n",
        "from keras.layers import Dropout\n",
        "from keras.layers import Flatten"
      ]
    },
    {
      "cell_type": "code",
      "execution_count": 11,
      "metadata": {
        "id": "V5US28ApHnTW"
      },
      "outputs": [],
      "source": [
        "#Creating the model\n",
        "model=Sequential()\n",
        "#Adding the layers\n",
        "model.add(Convolution2D(32,(3,3), input_shape=(64,64,1), activation = 'relu'))\n",
        "model.add(MaxPooling2D(pool_size=(2,2)))\n",
        "model.add(Flatten())\n",
        "\n",
        "#adding hidden layers\n",
        "model.add(Dense(400, activation='relu'))\n",
        "model.add(Dense(200, activation='relu'))\n",
        "model.add(Dense(100, activation='relu'))\n",
        "\n",
        "#Adding the output layer\n",
        "model.add(Dense(9, activation='softmax'))"
      ]
    },
    {
      "cell_type": "code",
      "execution_count": 12,
      "metadata": {
        "id": "S84mvff6H53r"
      },
      "outputs": [],
      "source": [
        "model.compile(loss='categorical_crossentropy', optimizer='adam', metrics=['accuracy'])"
      ]
    },
    {
      "cell_type": "code",
      "execution_count": 13,
      "metadata": {
        "colab": {
          "base_uri": "https://localhost:8080/"
        },
        "id": "X5kQdiZog8Cz",
        "outputId": "021af953-da34-461a-a62c-4553bb7dc851"
      },
      "outputs": [
        {
          "name": "stderr",
          "output_type": "stream",
          "text": [
            "C:\\Users\\KAAD\\AppData\\Local\\Temp\\ipykernel_676\\43643550.py:1: UserWarning: `Model.fit_generator` is deprecated and will be removed in a future version. Please use `Model.fit`, which supports generators.\n",
            "  model.fit_generator(x_train, steps_per_epoch=30, epochs=10, validation_data=x_test,validation_steps=50)\n"
          ]
        },
        {
          "name": "stdout",
          "output_type": "stream",
          "text": [
            "Epoch 1/10\n",
            "30/30 [==============================] - ETA: 0s - loss: 508.9954 - accuracy: 0.2390WARNING:tensorflow:Your input ran out of data; interrupting training. Make sure that your dataset or generator can generate at least `steps_per_epoch * epochs` batches (in this case, 50 batches). You may need to use the repeat() function when building your dataset.\n",
            "30/30 [==============================] - 17s 534ms/step - loss: 508.9954 - accuracy: 0.2390 - val_loss: 2339.9592 - val_accuracy: 0.0000e+00\n",
            "Epoch 2/10\n",
            "30/30 [==============================] - 10s 333ms/step - loss: 13116.6680 - accuracy: 0.0667\n",
            "Epoch 3/10\n",
            "30/30 [==============================] - 10s 317ms/step - loss: 74648.5625 - accuracy: 0.1000\n",
            "Epoch 4/10\n",
            "30/30 [==============================] - 9s 308ms/step - loss: 183818.2188 - accuracy: 0.1000\n",
            "Epoch 5/10\n",
            "30/30 [==============================] - 9s 289ms/step - loss: 759477.4375 - accuracy: 0.1000\n",
            "Epoch 6/10\n",
            "30/30 [==============================] - 8s 276ms/step - loss: 2141109.7500 - accuracy: 0.1000\n",
            "Epoch 7/10\n",
            "30/30 [==============================] - 9s 284ms/step - loss: 4231762.5000 - accuracy: 0.1000\n",
            "Epoch 8/10\n",
            "30/30 [==============================] - 8s 271ms/step - loss: 10112945.0000 - accuracy: 0.0990\n",
            "Epoch 9/10\n",
            "30/30 [==============================] - 8s 264ms/step - loss: 20951426.0000 - accuracy: 0.1333\n",
            "Epoch 10/10\n",
            "30/30 [==============================] - 8s 267ms/step - loss: 50809820.0000 - accuracy: 0.1333\n"
          ]
        },
        {
          "data": {
            "text/plain": [
              "<keras.callbacks.History at 0x1e76e6e1190>"
            ]
          },
          "execution_count": 13,
          "metadata": {},
          "output_type": "execute_result"
        }
      ],
      "source": [
        "model.fit_generator(x_train, steps_per_epoch=30, epochs=10, validation_data=x_test,validation_steps=50)"
      ]
    },
    {
      "cell_type": "code",
      "execution_count": 14,
      "metadata": {
        "id": "tDXeRBOcIDoX"
      },
      "outputs": [],
      "source": [
        "model.save('Real_time.h5')"
      ]
    },
    {
      "cell_type": "markdown",
      "metadata": {
        "id": "1dnUiQGCLkHc"
      },
      "source": [
        "##TEST THE MODEL\n",
        "\n",
        "\n"
      ]
    },
    {
      "cell_type": "code",
      "execution_count": 15,
      "metadata": {
        "id": "eWzt2n82H50m"
      },
      "outputs": [],
      "source": [
        "from tensorflow.keras.models import load_model\n",
        "from tensorflow.keras.preprocessing import image\n",
        "import numpy as np\n",
        "import cv2"
      ]
    },
    {
      "cell_type": "code",
      "execution_count": 18,
      "metadata": {
        "id": "JTC-UdX0LtYA"
      },
      "outputs": [],
      "source": [
        "model = load_model('Real_time.h5')"
      ]
    },
    {
      "cell_type": "code",
      "execution_count": 19,
      "metadata": {
        "colab": {
          "base_uri": "https://localhost:8080/",
          "height": 117
        },
        "id": "TKWIEDoHL1aT",
        "outputId": "ea8f3473-c1b2-4eca-e7be-0f9fdaf04120"
      },
      "outputs": [
        {
          "data": {
            "image/png": "[encoded data removed]",
            "text/plain": [
              "<PIL.Image.Image image mode=RGB size=100x100>"
            ]
          },
          "execution_count": 19,
          "metadata": {},
          "output_type": "execute_result"
        }
      ],
      "source": [
        "img = image.load_img('../DATA COLLECTION/test_set/test_set/H/107.png',target_size = (100,100))\n",
        "img"
      ]
    },
    {
      "cell_type": "code",
      "execution_count": 20,
      "metadata": {
        "id": "jflfQxF0VZqe"
      },
      "outputs": [],
      "source": [
        "from skimage.transform import resize\n",
        "def detect(frame):\n",
        "    img=image.img_to_array(frame)\n",
        "    img = resize(img,(64,64,1))\n",
        "    img = np.expand_dims(img,axis=0)\n",
        "    pred=np.argmax(model.predict(img))\n",
        "    op=['A','B','C','D','E','F','G','H','I']\n",
        "    print(\"THE PREDICTED LETTER IS \",op[pred])"
      ]
    },
    {
      "cell_type": "code",
      "execution_count": 22,
      "metadata": {
        "colab": {
          "base_uri": "https://localhost:8080/"
        },
        "id": "xAEhpLN0XTQJ",
        "outputId": "b4723c45-c267-423d-ab62-1234e0bdd02f"
      },
      "outputs": [
        {
          "name": "stdout",
          "output_type": "stream",
          "text": [
            "1/1 [==============================] - 0s 172ms/step\n",
            "THE PREDICTED LETTER IS  G\n"
          ]
        }
      ],
      "source": [
        "img=image.load_img(\"../DATA COLLECTION/test_set/test_set/H/107.png\")\n",
        "detect(img)"
      ]
    },
    {
      "cell_type": "code",
      "execution_count": 23,
      "metadata": {
        "colab": {
          "base_uri": "https://localhost:8080/"
        },
        "id": "bY4Rq7oaXdHt",
        "outputId": "20d402bd-9d31-4940-d1f9-0102f65aa916"
      },
      "outputs": [
        {
          "name": "stdout",
          "output_type": "stream",
          "text": [
            "1/1 [==============================] - 0s 36ms/step\n",
            "THE PREDICTED LETTER IS  G\n"
          ]
        }
      ],
      "source": [
        "img = image.load_img('../DATA COLLECTION/test_set/test_set/A/110.png')\n",
        "pred=detect(img)"
      ]
    },
    {
      "cell_type": "code",
      "execution_count": 25,
      "metadata": {
        "colab": {
          "base_uri": "https://localhost:8080/"
        },
        "id": "JcI8nejybLG8",
        "outputId": "30fc86bc-d9a3-4632-8aff-7beeb962e01f"
      },
      "outputs": [
        {
          "name": "stdout",
          "output_type": "stream",
          "text": [
            "1/1 [==============================] - 0s 40ms/step\n",
            "THE PREDICTED LETTER IS  G\n"
          ]
        }
      ],
      "source": [
        "img=image.load_img('../DATA COLLECTION/test_set/test_set/E/111.png')\n",
        "detect(img)"
      ]
    },
    {
      "cell_type": "code",
      "execution_count": null,
      "metadata": {},
      "outputs": [],
      "source": []
    }
  ],
  "metadata": {
    "colab": {
      "provenance": []
    },
    "kernelspec": {
      "display_name": "Python 3.9.6 64-bit",
      "language": "python",
      "name": "python3"
    },
    "language_info": {
      "codemirror_mode": {
        "name": "ipython",
        "version": 3
      },
      "file_extension": ".py",
      "mimetype": "text/x-python",
      "name": "python",
      "nbconvert_exporter": "python",
      "pygments_lexer": "ipython3",
      "version": "3.9.6"
    },
    "vscode": {
      "interpreter": {
        "hash": "6fe4714bd5ce26c50e16ce1c271df9023051780d2ddcdace95a80dfeffea871e"
      }
    }
  },
  "nbformat": 4,
  "nbformat_minor": 0
}
