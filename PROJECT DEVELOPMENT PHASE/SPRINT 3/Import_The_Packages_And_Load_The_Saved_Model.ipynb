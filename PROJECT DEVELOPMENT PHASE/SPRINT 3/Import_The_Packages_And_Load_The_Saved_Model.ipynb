{
  "cells": [
    {
      "cell_type": "markdown",
      "metadata": {
        "id": "nP5jmnM5o1Z1"
      },
      "source": [
        "Import The Required Model Building Libraries\n"
      ]
    },
    {
      "cell_type": "code",
      "execution_count": 1,
      "metadata": {
        "id": "I_mHw62oEUqr"
      },
      "outputs": [
        {
          "name": "stderr",
          "output_type": "stream",
          "text": [
            "c:\\Users\\KAAD\\AppData\\Local\\Programs\\Python\\Python39\\lib\\site-packages\\requests\\__init__.py:89: RequestsDependencyWarning: urllib3 (1.26.12) or chardet (3.0.4) doesn't match a supported version!\n",
            "  warnings.warn(\"urllib3 ({}) or chardet ({}) doesn't match a supported \"\n"
          ]
        }
      ],
      "source": [
        "#import imagedatagenerator\n",
        "from keras.preprocessing.image import ImageDataGenerator"
      ]
    },
    {
      "cell_type": "code",
      "execution_count": 2,
      "metadata": {
        "id": "61VrGuKOoewu"
      },
      "outputs": [],
      "source": [
        "#training datagen\n",
        "train_datagen=ImageDataGenerator(rescale=1./255,shear_range=0.2,zoom_range=0.2,horizontal_flip=True)"
      ]
    },
    {
      "cell_type": "code",
      "execution_count": 3,
      "metadata": {
        "id": "xO75rsS3qDC5"
      },
      "outputs": [],
      "source": [
        "#testing datagen\n",
        "test_datagen=ImageDataGenerator(rescale=1./255)"
      ]
    },
    {
      "cell_type": "markdown",
      "metadata": {
        "id": "bYe1O2AfqIrf"
      },
      "source": [
        "IMPORTING tensorflow"
      ]
    },
    {
      "cell_type": "code",
      "execution_count": 4,
      "metadata": {
        "id": "ofDYoY7sqGDU"
      },
      "outputs": [],
      "source": [
        "import tensorflow as tf\n",
        "import os"
      ]
    },
    {
      "cell_type": "markdown",
      "metadata": {
        "id": "TAwZWfsjqOev"
      },
      "source": [
        "**Initialize The Model**"
      ]
    },
    {
      "cell_type": "code",
      "execution_count": 5,
      "metadata": {
        "id": "Ck6yBKf1qPZz"
      },
      "outputs": [],
      "source": [
        "#create model\n",
        "from keras.models import Sequential\n",
        "from keras.layers import Dense\n",
        "from keras.layers import Convolution2D\n",
        "from keras.layers import MaxPooling2D\n",
        "from keras.layers import Dropout\n",
        "from keras.layers import Flatten \n",
        "from tensorflow.keras.preprocessing.image import ImageDataGenerator"
      ]
    },
    {
      "cell_type": "code",
      "execution_count": 6,
      "metadata": {
        "id": "9jyZWCmLqT2F"
      },
      "outputs": [],
      "source": [
        "import numpy as np\n",
        "import matplotlib.pyplot as plt #to view graph in colab itself\n",
        "import IPython.display as display\n",
        "from PIL import Image\n",
        "import pathlib"
      ]
    },
    {
      "cell_type": "markdown",
      "metadata": {
        "id": "Tg-I2-QxqwaD"
      },
      "source": [
        "Unzipping the dataset"
      ]
    },
    {
      "cell_type": "code",
      "execution_count": 7,
      "metadata": {
        "colab": {
          "base_uri": "https://localhost:8080/"
        },
        "id": "PiYShEJBqy-0",
        "outputId": "10583a4e-d1c1-40e6-edb2-2251215c3edf"
      },
      "outputs": [
        {
          "name": "stderr",
          "output_type": "stream",
          "text": [
            "'unzip' is not recognized as an internal or external command,\n",
            "operable program or batch file.\n"
          ]
        }
      ],
      "source": [
        "!unzip '/content/conversation engine for deaf and dumb (1).zip'"
      ]
    },
    {
      "cell_type": "markdown",
      "metadata": {
        "id": "2r95_bdVuEy1"
      },
      "source": [
        "Applying ImageDataGenerator to training set"
      ]
    },
    {
      "cell_type": "code",
      "execution_count": 8,
      "metadata": {
        "colab": {
          "base_uri": "https://localhost:8080/"
        },
        "id": "E18JQzzvrFpQ",
        "outputId": "401b4f59-5322-42d6-c79a-963518ecc0e1"
      },
      "outputs": [
        {
          "name": "stdout",
          "output_type": "stream",
          "text": [
            "Found 15130 images belonging to 1 classes.\n"
          ]
        }
      ],
      "source": [
        "x_train=train_datagen.flow_from_directory('../DATA COLLECTION/training_set',target_size=(64,64),batch_size=200,\n",
        "                                          class_mode='categorical',color_mode=\"grayscale\")"
      ]
    },
    {
      "cell_type": "markdown",
      "metadata": {
        "id": "pNsLjRsluO6H"
      },
      "source": [
        "Applying ImageDataGenerator to test set"
      ]
    },
    {
      "cell_type": "code",
      "execution_count": 9,
      "metadata": {
        "colab": {
          "base_uri": "https://localhost:8080/"
        },
        "id": "w_hFC8XztpO0",
        "outputId": "b1fd86d1-2ac0-4776-8e99-4e2f4af1b8b4"
      },
      "outputs": [
        {
          "name": "stdout",
          "output_type": "stream",
          "text": [
            "Found 2250 images belonging to 1 classes.\n"
          ]
        }
      ],
      "source": [
        "x_test=test_datagen.flow_from_directory('../DATA COLLECTION/test_set',target_size=(64,64),batch_size=200,\n",
        "                                          class_mode='categorical',color_mode=\"grayscale\")"
      ]
    },
    {
      "cell_type": "code",
      "execution_count": 10,
      "metadata": {
        "id": "a8ZGR9usdrNF"
      },
      "outputs": [],
      "source": [
        "a=len(x_train)\n",
        "b=len(x_test)"
      ]
    },
    {
      "cell_type": "markdown",
      "metadata": {
        "id": "_lw7qrnFdtso"
      },
      "source": [
        "Length of training set"
      ]
    },
    {
      "cell_type": "code",
      "execution_count": 11,
      "metadata": {
        "colab": {
          "base_uri": "https://localhost:8080/"
        },
        "id": "0FTaheN5dv8k",
        "outputId": "1845bb5e-05e0-43dc-ffaf-b1a92bbc41db"
      },
      "outputs": [
        {
          "name": "stdout",
          "output_type": "stream",
          "text": [
            "76\n"
          ]
        }
      ],
      "source": [
        "print(a)"
      ]
    },
    {
      "cell_type": "markdown",
      "metadata": {
        "id": "U1JzutxCdw2O"
      },
      "source": [
        "Length of test set"
      ]
    },
    {
      "cell_type": "code",
      "execution_count": 12,
      "metadata": {
        "colab": {
          "base_uri": "https://localhost:8080/"
        },
        "id": "jNI2FL3PdzDq",
        "outputId": "0d0b9e4c-4174-487f-f70b-6843e9b18b21"
      },
      "outputs": [
        {
          "name": "stdout",
          "output_type": "stream",
          "text": [
            "12\n"
          ]
        }
      ],
      "source": [
        "print(b)"
      ]
    },
    {
      "cell_type": "markdown",
      "metadata": {
        "id": "9SRg-omujmM6"
      },
      "source": [
        "**Add Layers**"
      ]
    },
    {
      "cell_type": "code",
      "execution_count": 13,
      "metadata": {
        "id": "iLJ7ctIrjsjB"
      },
      "outputs": [],
      "source": [
        "#create model\n",
        "model=Sequential()"
      ]
    },
    {
      "cell_type": "markdown",
      "metadata": {
        "id": "fZ7qF2celuwi"
      },
      "source": [
        "Add The Convolution Layer"
      ]
    },
    {
      "cell_type": "code",
      "execution_count": 14,
      "metadata": {
        "id": "HcUkfqaOl8_R"
      },
      "outputs": [],
      "source": [
        "model.add(Convolution2D(32,(3,3),input_shape=(64,64,1),activation='relu'))"
      ]
    },
    {
      "cell_type": "markdown",
      "metadata": {
        "id": "iihGqcQ4oLUz"
      },
      "source": [
        "Add Pooling Layer"
      ]
    },
    {
      "cell_type": "code",
      "execution_count": 15,
      "metadata": {
        "id": "PPt1BWsjoNVz"
      },
      "outputs": [],
      "source": [
        "model.add(MaxPooling2D(pool_size=(2,2)))"
      ]
    },
    {
      "cell_type": "markdown",
      "metadata": {
        "id": "HomIT83soZIm"
      },
      "source": [
        "Add The Flatten Layer"
      ]
    },
    {
      "cell_type": "code",
      "execution_count": 16,
      "metadata": {
        "id": "cxnSNEo3oZ3q",
        "outputId": "f3e40915-a79e-4c6a-cbf9-a8607a8a0a66"
      },
      "outputs": [],
      "source": [
        "model.add(Flatten())"
      ]
    },
    {
      "cell_type": "markdown",
      "metadata": {
        "id": "vwu2BIcho7UT"
      },
      "source": [
        "Adding The Dense Layers"
      ]
    },
    {
      "cell_type": "code",
      "execution_count": 17,
      "metadata": {
        "id": "mc4Vs7lypAZu"
      },
      "outputs": [],
      "source": [
        "#1st hidden layer\n",
        "model.add(Dense(units=512,activation='relu'))\n",
        "#2nd hidden layer\n",
        "model.add(Dense(units=261,activation='relu'))"
      ]
    },
    {
      "cell_type": "code",
      "execution_count": 18,
      "metadata": {
        "id": "FMEjPDaMqSWD"
      },
      "outputs": [],
      "source": [
        "#output layer\n",
        "model.add(Dense(units=9,activation='softmax'))"
      ]
    },
    {
      "cell_type": "markdown",
      "metadata": {
        "id": "yU1_Vi4trCCL"
      },
      "source": [
        "Compile The Model"
      ]
    },
    {
      "cell_type": "code",
      "execution_count": 19,
      "metadata": {
        "id": "ePb836_rrF9h"
      },
      "outputs": [],
      "source": [
        "model.compile(loss='categorical_crossentropy',optimizer='adam',metrics=['accuracy'])"
      ]
    },
    {
      "cell_type": "markdown",
      "metadata": {
        "id": "QnBKeI3yrs_V"
      },
      "source": [
        "Fit The Model"
      ]
    },
    {
      "cell_type": "code",
      "execution_count": 20,
      "metadata": {
        "colab": {
          "base_uri": "https://localhost:8080/"
        },
        "id": "XtvYEGAVrwnL",
        "outputId": "a0aa22ae-7beb-41e9-834d-1afc3ad55f9a"
      },
      "outputs": [
        {
          "name": "stderr",
          "output_type": "stream",
          "text": [
            "C:\\Users\\KAAD\\AppData\\Local\\Temp\\ipykernel_18712\\234118701.py:1: UserWarning: `Model.fit_generator` is deprecated and will be removed in a future version. Please use `Model.fit`, which supports generators.\n",
            "  model.fit_generator(x_train,steps_per_epoch=len(x_train),epochs=10,validation_data=x_test,validation_steps=len(x_test))\n"
          ]
        },
        {
          "name": "stdout",
          "output_type": "stream",
          "text": [
            "Epoch 1/10\n",
            "76/76 [==============================] - 52s 664ms/step - loss: 19169.8770 - accuracy: 0.1434 - val_loss: 72915.0938 - val_accuracy: 0.0000e+00\n",
            "Epoch 2/10\n",
            "76/76 [==============================] - 37s 476ms/step - loss: 161827.7969 - accuracy: 0.1257 - val_loss: 174178.8594 - val_accuracy: 0.0000e+00\n",
            "Epoch 3/10\n",
            "76/76 [==============================] - 38s 494ms/step - loss: 426461.6562 - accuracy: 0.1058 - val_loss: 1584001.2500 - val_accuracy: 1.0000\n",
            "Epoch 4/10\n",
            "76/76 [==============================] - 38s 500ms/step - loss: 1722752.1250 - accuracy: 0.1322 - val_loss: 2542373.7500 - val_accuracy: 0.0000e+00\n",
            "Epoch 5/10\n",
            "76/76 [==============================] - 41s 542ms/step - loss: 4257839.5000 - accuracy: 0.1058 - val_loss: 5715521.5000 - val_accuracy: 0.0000e+00\n",
            "Epoch 6/10\n",
            "76/76 [==============================] - 43s 554ms/step - loss: 9392711.0000 - accuracy: 0.1058 - val_loss: 19225760.0000 - val_accuracy: 0.0000e+00\n",
            "Epoch 7/10\n",
            "76/76 [==============================] - 43s 569ms/step - loss: 14829812.0000 - accuracy: 0.1058 - val_loss: 25549794.0000 - val_accuracy: 0.0000e+00\n",
            "Epoch 8/10\n",
            "76/76 [==============================] - 42s 541ms/step - loss: 23511444.0000 - accuracy: 0.1143 - val_loss: 25934492.0000 - val_accuracy: 0.0000e+00\n",
            "Epoch 9/10\n",
            "76/76 [==============================] - 39s 513ms/step - loss: 34577296.0000 - accuracy: 0.1058 - val_loss: 37388964.0000 - val_accuracy: 1.0000\n",
            "Epoch 10/10\n",
            "76/76 [==============================] - 38s 498ms/step - loss: 37438228.0000 - accuracy: 0.1190 - val_loss: 44035032.0000 - val_accuracy: 0.0000e+00\n"
          ]
        },
        {
          "data": {
            "text/plain": [
              "<keras.callbacks.History at 0x266327ae250>"
            ]
          },
          "execution_count": 20,
          "metadata": {},
          "output_type": "execute_result"
        }
      ],
      "source": [
        "model.fit_generator(x_train,steps_per_epoch=len(x_train),epochs=10,validation_data=x_test,validation_steps=len(x_test))"
      ]
    },
    {
      "cell_type": "markdown",
      "metadata": {
        "id": "MVIcxRN-tm0b"
      },
      "source": [
        "Save The Model"
      ]
    },
    {
      "cell_type": "code",
      "execution_count": 21,
      "metadata": {
        "id": "VUqN_C8UtpAP"
      },
      "outputs": [],
      "source": [
        "model.save('aslpng2.h5')"
      ]
    },
    {
      "cell_type": "markdown",
      "metadata": {
        "id": "ZkOZnVsn4N0M"
      },
      "source": [
        "Import The Packages And Load The Saved Model"
      ]
    },
    {
      "cell_type": "code",
      "execution_count": 22,
      "metadata": {
        "id": "qkpWQ-0k4RUN"
      },
      "outputs": [],
      "source": [
        "from tensorflow.keras.models import load_model\n",
        "import numpy as np\n",
        "import cv2\n",
        "from tensorflow.keras.preprocessing import image"
      ]
    },
    {
      "cell_type": "code",
      "execution_count": 23,
      "metadata": {
        "id": "Il0lOr7S4t75"
      },
      "outputs": [],
      "source": [
        "#load the model\n",
        "model=load_model('aslpng2.h5')"
      ]
    },
    {
      "cell_type": "code",
      "execution_count": 24,
      "metadata": {
        "colab": {
          "base_uri": "https://localhost:8080/",
          "height": 417
        },
        "id": "oxvt3aVk5IxR",
        "outputId": "28db4c7c-838e-44ca-8f1e-0efdd4a7a562"
      },
      "outputs": [
        {
          "data": {
            "image/png": "[encoded data removed]",
            "text/plain": [
              "<PIL.Image.Image image mode=RGB size=500x400>"
            ]
          },
          "execution_count": 24,
          "metadata": {},
          "output_type": "execute_result"
        }
      ],
      "source": [
        "img=image.load_img('../DATA COLLECTION/test_set/test_set/A/10.png',target_size=(400,500))\n",
        "img"
      ]
    },
    {
      "cell_type": "code",
      "execution_count": null,
      "metadata": {},
      "outputs": [],
      "source": []
    },
    {
      "cell_type": "code",
      "execution_count": null,
      "metadata": {},
      "outputs": [],
      "source": []
    }
  ],
  "metadata": {
    "colab": {
      "collapsed_sections": [],
      "provenance": []
    },
    "kernelspec": {
      "display_name": "Python 3.9.6 64-bit",
      "language": "python",
      "name": "python3"
    },
    "language_info": {
      "codemirror_mode": {
        "name": "ipython",
        "version": 3
      },
      "file_extension": ".py",
      "mimetype": "text/x-python",
      "name": "python",
      "nbconvert_exporter": "python",
      "pygments_lexer": "ipython3",
      "version": "3.9.6"
    },
    "vscode": {
      "interpreter": {
        "hash": "6fe4714bd5ce26c50e16ce1c271df9023051780d2ddcdace95a80dfeffea871e"
      }
    }
  },
  "nbformat": 4,
  "nbformat_minor": 0
}
