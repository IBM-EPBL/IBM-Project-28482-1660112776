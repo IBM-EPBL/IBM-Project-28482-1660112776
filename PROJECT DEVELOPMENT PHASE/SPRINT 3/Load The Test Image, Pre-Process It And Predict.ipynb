{
  "cells": [
    {
      "cell_type": "code",
      "execution_count": null,
      "metadata": {
        "id": "LZo_xVG3m4AU"
      },
      "outputs": [],
      "source": []
    },
    {
      "cell_type": "markdown",
      "metadata": {
        "id": "FAGzis88l7x8"
      },
      "source": [
        "# **Real-Time Communication System Powered By AI For Specially Abled**"
      ]
    },
    {
      "cell_type": "markdown",
      "metadata": {
        "id": "c3y70G0zl7Yn"
      },
      "source": [
        "**Loading the Dataset & Image Data Generation**"
      ]
    },
    {
      "cell_type": "code",
      "execution_count": 8,
      "metadata": {
        "id": "iy2QXRwJeOqr"
      },
      "outputs": [
        {
          "name": "stderr",
          "output_type": "stream",
          "text": [
            "c:\\Users\\KAAD\\AppData\\Local\\Programs\\Python\\Python39\\lib\\site-packages\\requests\\__init__.py:89: RequestsDependencyWarning: urllib3 (1.26.12) or chardet (3.0.4) doesn't match a supported version!\n",
            "  warnings.warn(\"urllib3 ({}) or chardet ({}) doesn't match a supported \"\n"
          ]
        }
      ],
      "source": [
        "from tensorflow.keras.preprocessing.image import ImageDataGenerator"
      ]
    },
    {
      "cell_type": "code",
      "execution_count": 9,
      "metadata": {
        "id": "AdFUXM70fmPj"
      },
      "outputs": [],
      "source": [
        "# Training Datagen\n",
        "train_datagen = ImageDataGenerator(rescale=1/255,zoom_range=0.2,horizontal_flip=True,vertical_flip=False)\n",
        "# Testing Datagen\n",
        "test_datagen = ImageDataGenerator(rescale=1/255)\n"
      ]
    },
    {
      "cell_type": "code",
      "execution_count": 10,
      "metadata": {
        "colab": {
          "base_uri": "https://localhost:8080/"
        },
        "id": "-SpHowmAgu7_",
        "outputId": "2705d81f-65a8-4608-d3ee-47d380176492"
      },
      "outputs": [
        {
          "name": "stdout",
          "output_type": "stream",
          "text": [
            "Found 15130 images belonging to 1 classes.\n",
            "Found 2250 images belonging to 1 classes.\n"
          ]
        }
      ],
      "source": [
        "# Training Dataset\n",
        "x_train=train_datagen.flow_from_directory(r'../DATA COLLECTION/training_set',target_size=(64,64), class_mode='categorical',batch_size=900)\n",
        "# Testing Dataset\n",
        "x_test=test_datagen.flow_from_directory(r'../DATA COLLECTION/test_set',target_size=(64,64), class_mode='categorical',batch_size=900)\n"
      ]
    },
    {
      "cell_type": "code",
      "execution_count": 11,
      "metadata": {
        "colab": {
          "base_uri": "https://localhost:8080/"
        },
        "id": "2qLcDqP4jgPT",
        "outputId": "186414de-2ee8-43f4-9557-4ff694d0f590"
      },
      "outputs": [
        {
          "name": "stdout",
          "output_type": "stream",
          "text": [
            "Len x-train :  17\n",
            "Len x-test :  3\n"
          ]
        }
      ],
      "source": [
        "print(\"Len x-train : \", len(x_train))\n",
        "print(\"Len x-test : \", len(x_test))"
      ]
    },
    {
      "cell_type": "code",
      "execution_count": 12,
      "metadata": {
        "colab": {
          "base_uri": "https://localhost:8080/"
        },
        "id": "V9Z-Rvl1jh-Q",
        "outputId": "6ee65a70-0ab7-4c56-febb-30fe0f38a430"
      },
      "outputs": [
        {
          "data": {
            "text/plain": [
              "{'training_set': 0}"
            ]
          },
          "execution_count": 12,
          "metadata": {},
          "output_type": "execute_result"
        }
      ],
      "source": [
        "# The Class Indices in Training Dataset\n",
        "x_train.class_indices"
      ]
    },
    {
      "cell_type": "markdown",
      "metadata": {
        "id": "5yHOh0Bhl5F9"
      },
      "source": [
        "**Model Creation**"
      ]
    },
    {
      "cell_type": "code",
      "execution_count": 13,
      "metadata": {
        "id": "ycQhnJ3om87I"
      },
      "outputs": [],
      "source": [
        "# Importing Libraries\n",
        "from tensorflow.keras.models import Sequential\n",
        "from tensorflow.keras.layers import Convolution2D,MaxPooling2D,Flatten,Dense"
      ]
    },
    {
      "cell_type": "code",
      "execution_count": 14,
      "metadata": {
        "id": "IVNzGYblocSh"
      },
      "outputs": [],
      "source": [
        "# Creating Model\n",
        "model=Sequential()"
      ]
    },
    {
      "cell_type": "code",
      "execution_count": 15,
      "metadata": {
        "id": "G7kEjSISpDs7"
      },
      "outputs": [],
      "source": [
        "# Adding Layers\n",
        "model.add(Convolution2D(32,(3,3),activation='relu',input_shape=(64,64,3)))"
      ]
    },
    {
      "cell_type": "code",
      "execution_count": 16,
      "metadata": {
        "id": "p8lwdE26pLdN"
      },
      "outputs": [],
      "source": [
        "model.add(MaxPooling2D(pool_size=(2,2)))"
      ]
    },
    {
      "cell_type": "code",
      "execution_count": 17,
      "metadata": {
        "id": "cIeLXS77pTEq"
      },
      "outputs": [],
      "source": [
        "model.add(Flatten())"
      ]
    },
    {
      "cell_type": "code",
      "execution_count": 18,
      "metadata": {
        "id": "0XAR5Q0fphqp"
      },
      "outputs": [],
      "source": [
        "# Adding Dense Layers\n",
        "model.add(Dense(300,activation='relu'))\n",
        "model.add(Dense(150,activation='relu'))\n",
        "model.add(Dense(9,activation='softmax'))"
      ]
    },
    {
      "cell_type": "code",
      "execution_count": 19,
      "metadata": {
        "id": "Pvo6cZAVpsiT"
      },
      "outputs": [],
      "source": [
        "# Compiling the Model\n",
        "model.compile(loss='categorical_crossentropy',optimizer='adam',metrics=['accuracy'])"
      ]
    },
    {
      "cell_type": "code",
      "execution_count": 20,
      "metadata": {
        "colab": {
          "base_uri": "https://localhost:8080/"
        },
        "id": "a1tPmi7ap5yd",
        "outputId": "4f3a9511-b8e0-4841-b8e2-e4220543bd86"
      },
      "outputs": [
        {
          "name": "stderr",
          "output_type": "stream",
          "text": [
            "C:\\Users\\KAAD\\AppData\\Local\\Temp\\ipykernel_3492\\1042518445.py:2: UserWarning: `Model.fit_generator` is deprecated and will be removed in a future version. Please use `Model.fit`, which supports generators.\n",
            "  model.fit_generator(x_train,steps_per_epoch=len(x_train),epochs=10,validation_data=x_test,validation_steps=len(x_test))\n"
          ]
        },
        {
          "name": "stdout",
          "output_type": "stream",
          "text": [
            "Epoch 1/10\n",
            "17/17 [==============================] - 60s 3s/step - loss: 233.8465 - accuracy: 0.0050 - val_loss: 821.1965 - val_accuracy: 0.0000e+00\n",
            "Epoch 2/10\n",
            "17/17 [==============================] - 48s 3s/step - loss: 1806.5366 - accuracy: 0.0000e+00 - val_loss: 3430.9709 - val_accuracy: 1.0000\n",
            "Epoch 3/10\n",
            "17/17 [==============================] - 46s 3s/step - loss: 5591.5781 - accuracy: 0.2302 - val_loss: 10088.5967 - val_accuracy: 0.0000e+00\n",
            "Epoch 4/10\n",
            "17/17 [==============================] - 46s 3s/step - loss: 15875.0488 - accuracy: 0.1785 - val_loss: 24351.5723 - val_accuracy: 0.0000e+00\n",
            "Epoch 5/10\n",
            "17/17 [==============================] - 47s 3s/step - loss: 36624.0586 - accuracy: 0.1785 - val_loss: 51302.7852 - val_accuracy: 0.0000e+00\n",
            "Epoch 6/10\n",
            "17/17 [==============================] - 45s 3s/step - loss: 67785.0156 - accuracy: 0.1190 - val_loss: 94194.4297 - val_accuracy: 0.0000e+00\n",
            "Epoch 7/10\n",
            "17/17 [==============================] - 45s 3s/step - loss: 123454.8672 - accuracy: 0.1190 - val_loss: 136112.5469 - val_accuracy: 0.0000e+00\n",
            "Epoch 8/10\n",
            "17/17 [==============================] - 45s 3s/step - loss: 128308.2969 - accuracy: 0.1190 - val_loss: 141021.5156 - val_accuracy: 0.0000e+00\n",
            "Epoch 9/10\n",
            "17/17 [==============================] - 45s 3s/step - loss: 141047.2188 - accuracy: 0.1190 - val_loss: 273855.3438 - val_accuracy: 0.0000e+00\n",
            "Epoch 10/10\n",
            "17/17 [==============================] - 45s 3s/step - loss: 184940.0000 - accuracy: 0.1190 - val_loss: 172776.7969 - val_accuracy: 0.0000e+00\n"
          ]
        },
        {
          "data": {
            "text/plain": [
              "<keras.callbacks.History at 0x1e077ef55b0>"
            ]
          },
          "execution_count": 20,
          "metadata": {},
          "output_type": "execute_result"
        }
      ],
      "source": [
        "# Fitting the Model Generator\n",
        "model.fit_generator(x_train,steps_per_epoch=len(x_train),epochs=10,validation_data=x_test,validation_steps=len(x_test))"
      ]
    },
    {
      "cell_type": "markdown",
      "metadata": {
        "id": "jB3lpZWWIBi9"
      },
      "source": [
        "**Saving the Model**"
      ]
    },
    {
      "cell_type": "code",
      "execution_count": 21,
      "metadata": {
        "id": "KD44zAOOIL_7"
      },
      "outputs": [],
      "source": [
        "model.save('asl_model_84_54.h5')"
      ]
    },
    {
      "cell_type": "markdown",
      "metadata": {
        "id": "bbrJNO31k_C2"
      },
      "source": [
        "**Testing the model**"
      ]
    },
    {
      "cell_type": "code",
      "execution_count": 22,
      "metadata": {
        "id": "4bVm4qlC-k5o"
      },
      "outputs": [],
      "source": [
        "import numpy as np\n",
        "from tensorflow.keras.models import load_model\n",
        "from tensorflow.keras.preprocessing import image"
      ]
    },
    {
      "cell_type": "code",
      "execution_count": 23,
      "metadata": {
        "id": "vIUa2cgH-4wm"
      },
      "outputs": [],
      "source": [
        "model=load_model('asl_model_84_54.h5')\n",
        "img=image.load_img(r'../DATA COLLECTION/test_set/test_set/D/2.png',\n",
        "                   target_size=(64,64))"
      ]
    },
    {
      "cell_type": "code",
      "execution_count": 24,
      "metadata": {
        "colab": {
          "base_uri": "https://localhost:8080/",
          "height": 81
        },
        "id": "cfGpp3Sr_xJA",
        "outputId": "cfb502d2-1f0c-448a-8288-2b166614abb0"
      },
      "outputs": [
        {
          "data": {
            "image/png": "[encoded data removed]",
            "text/plain": [
              "<PIL.Image.Image image mode=RGB size=64x64>"
            ]
          },
          "execution_count": 24,
          "metadata": {},
          "output_type": "execute_result"
        }
      ],
      "source": [
        "img"
      ]
    },
    {
      "cell_type": "code",
      "execution_count": 25,
      "metadata": {
        "id": "3kME0rBH_250"
      },
      "outputs": [],
      "source": [
        "x=image.img_to_array(img)"
      ]
    },
    {
      "cell_type": "code",
      "execution_count": 26,
      "metadata": {
        "colab": {
          "base_uri": "https://localhost:8080/"
        },
        "id": "nK01BHJc_986",
        "outputId": "26c40922-9524-45a9-a469-decee7d9778e"
      },
      "outputs": [
        {
          "data": {
            "text/plain": [
              "3"
            ]
          },
          "execution_count": 26,
          "metadata": {},
          "output_type": "execute_result"
        }
      ],
      "source": [
        "x.ndim"
      ]
    },
    {
      "cell_type": "code",
      "execution_count": 27,
      "metadata": {
        "id": "PrHzEUIWAAo0"
      },
      "outputs": [],
      "source": [
        "x=np.expand_dims(x,axis=0)"
      ]
    },
    {
      "cell_type": "code",
      "execution_count": 28,
      "metadata": {
        "colab": {
          "base_uri": "https://localhost:8080/"
        },
        "id": "FeDbXW6dAFFz",
        "outputId": "26a0ff6d-f14b-4783-dd9e-4c8135ec60a4"
      },
      "outputs": [
        {
          "data": {
            "text/plain": [
              "4"
            ]
          },
          "execution_count": 28,
          "metadata": {},
          "output_type": "execute_result"
        }
      ],
      "source": [
        "x.ndim"
      ]
    },
    {
      "cell_type": "code",
      "execution_count": 29,
      "metadata": {
        "colab": {
          "base_uri": "https://localhost:8080/"
        },
        "id": "YBqJAjCBAKgN",
        "outputId": "459c3832-fc12-47ef-d88c-8e9e1e48ca53"
      },
      "outputs": [
        {
          "name": "stdout",
          "output_type": "stream",
          "text": [
            "1/1 [==============================] - 0s 152ms/step\n"
          ]
        }
      ],
      "source": [
        "pred=np.argmax(model.predict(x),axis=1)"
      ]
    },
    {
      "cell_type": "code",
      "execution_count": 30,
      "metadata": {
        "colab": {
          "base_uri": "https://localhost:8080/"
        },
        "id": "06TD4LfMAP93",
        "outputId": "8819eb65-2977-4c5f-f3c3-7ef6e7d903a3"
      },
      "outputs": [
        {
          "data": {
            "text/plain": [
              "array([5], dtype=int64)"
            ]
          },
          "execution_count": 30,
          "metadata": {},
          "output_type": "execute_result"
        }
      ],
      "source": [
        "pred"
      ]
    },
    {
      "cell_type": "code",
      "execution_count": 31,
      "metadata": {
        "colab": {
          "base_uri": "https://localhost:8080/"
        },
        "id": "9eX96HsRAUJ4",
        "outputId": "831e16db-0b87-4c65-ab9b-3cd2c1156958"
      },
      "outputs": [
        {
          "name": "stdout",
          "output_type": "stream",
          "text": [
            "F\n"
          ]
        }
      ],
      "source": [
        "index=['A','B','C','D','E','F','G','H','I']\n",
        "print(index[pred[0]])"
      ]
    },
    {
      "cell_type": "markdown",
      "metadata": {
        "id": "HALxx0uSAY9Z"
      },
      "source": [
        "**OPEN CV**"
      ]
    },
    {
      "cell_type": "code",
      "execution_count": 32,
      "metadata": {
        "id": "e_LapiRUAggD"
      },
      "outputs": [],
      "source": [
        "import cv2"
      ]
    },
    {
      "cell_type": "code",
      "execution_count": 33,
      "metadata": {
        "id": "hlZd8D8TAlgT"
      },
      "outputs": [],
      "source": [
        "img=cv2.imread(r'../DATA COLLECTION/test_set/test_set/C/2.png',1)"
      ]
    },
    {
      "cell_type": "code",
      "execution_count": 34,
      "metadata": {
        "id": "VNEMj2QqA0pf"
      },
      "outputs": [],
      "source": [
        "img1=cv2.imread(r'../DATA COLLECTION/test_set/test_set/B/2.png',0)"
      ]
    },
    {
      "cell_type": "code",
      "execution_count": 35,
      "metadata": {
        "colab": {
          "base_uri": "https://localhost:8080/"
        },
        "id": "TvuhH6w4A8DS",
        "outputId": "0bf17e8f-aeb9-4f9d-ca14-5057d36ab1f3"
      },
      "outputs": [
        {
          "name": "stdout",
          "output_type": "stream",
          "text": [
            "(64, 64, 3)\n"
          ]
        }
      ],
      "source": [
        "print(img.shape)"
      ]
    },
    {
      "cell_type": "code",
      "execution_count": 36,
      "metadata": {
        "colab": {
          "base_uri": "https://localhost:8080/",
          "height": 81
        },
        "id": "kWRvIQGnBbD1",
        "outputId": "8106832d-24a3-404b-c7de-56f6db3fafa5"
      },
      "outputs": [],
      "source": [
        "import matplotlib.pyplot as plt\n",
        "\n",
        "\n"
      ]
    },
    {
      "cell_type": "code",
      "execution_count": 37,
      "metadata": {},
      "outputs": [
        {
          "data": {
            "text/plain": [
              "<matplotlib.image.AxesImage at 0x1e007b6d070>"
            ]
          },
          "execution_count": 37,
          "metadata": {},
          "output_type": "execute_result"
        },
        {
          "data": {
            "image/png": "[encoded data removed]",
            "text/plain": [
              "<Figure size 640x480 with 1 Axes>"
            ]
          },
          "metadata": {},
          "output_type": "display_data"
        }
      ],
      "source": [
        "plt.imshow(img)"
      ]
    },
    {
      "cell_type": "code",
      "execution_count": null,
      "metadata": {},
      "outputs": [],
      "source": []
    }
  ],
  "metadata": {
    "colab": {
      "provenance": []
    },
    "kernelspec": {
      "display_name": "Python 3.9.6 64-bit",
      "language": "python",
      "name": "python3"
    },
    "language_info": {
      "codemirror_mode": {
        "name": "ipython",
        "version": 3
      },
      "file_extension": ".py",
      "mimetype": "text/x-python",
      "name": "python",
      "nbconvert_exporter": "python",
      "pygments_lexer": "ipython3",
      "version": "3.9.6"
    },
    "vscode": {
      "interpreter": {
        "hash": "6fe4714bd5ce26c50e16ce1c271df9023051780d2ddcdace95a80dfeffea871e"
      }
    }
  },
  "nbformat": 4,
  "nbformat_minor": 0
}
